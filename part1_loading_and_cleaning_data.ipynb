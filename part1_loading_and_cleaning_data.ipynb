{
 "cells": [
  {
   "cell_type": "markdown",
   "id": "1a1baa6c-57cc-4562-aed9-bb96eabe915c",
   "metadata": {},
   "source": [
    "# Preliminary Steps"
   ]
  },
  {
   "cell_type": "markdown",
   "id": "af6ce584-964d-45a1-911b-4b9f465e510e",
   "metadata": {},
   "source": [
    "## Imports"
   ]
  },
  {
   "cell_type": "code",
   "execution_count": 1,
   "id": "f2582a32-1824-4baf-9ca0-cf950c02a0bf",
   "metadata": {},
   "outputs": [],
   "source": [
    "from dotenv import load_dotenv\n",
    "\n",
    "import os\n",
    "\n",
    "import traceback\n",
    "\n",
    "from sql_query_helper_funcs import exec_and_commit_query, sql_query_to_pandas_df\n",
    "\n",
    "import pandas as pd\n",
    "\n",
    "from sqlalchemy import create_engine"
   ]
  },
  {
   "cell_type": "markdown",
   "id": "d4619ee3-013c-47ce-b069-04317eccc3b9",
   "metadata": {},
   "source": [
    "## Connecting to local db"
   ]
  },
  {
   "cell_type": "code",
   "execution_count": 2,
   "id": "db7117eb-2e90-4245-83e9-2159626046f0",
   "metadata": {},
   "outputs": [
    {
     "data": {
      "text/plain": [
       "True"
      ]
     },
     "execution_count": 2,
     "metadata": {},
     "output_type": "execute_result"
    }
   ],
   "source": [
    "load_dotenv()"
   ]
  },
  {
   "cell_type": "code",
   "execution_count": 3,
   "id": "3cd06590-dc0c-47af-8e53-22e8005466cb",
   "metadata": {},
   "outputs": [],
   "source": [
    "db_user = os.environ.get('USER_NAME')\n",
    "db_pass = os.environ.get('PASS')\n",
    "db_ip = os.environ.get('IP_ADDRESS')\n",
    "db_port = os.environ.get('PORT')\n",
    "db_name = os.environ.get('DB_NAME')\n",
    "\n",
    "engine = create_engine(f'postgresql+psycopg2://{db_user}:{db_pass}@{db_ip}:{db_port}/{db_name}')"
   ]
  },
  {
   "cell_type": "markdown",
   "id": "3acf6ebc-139c-4f38-9178-ff00e262a803",
   "metadata": {},
   "source": [
    "# Loading and Cleaning Data"
   ]
  },
  {
   "cell_type": "markdown",
   "id": "0e29cf0d-29e3-4d9a-9905-e4362ae6b26d",
   "metadata": {},
   "source": [
    "## Creating staging tables to inspect and clean the data\n",
    "Create staging tables with generic data types so I can start looking through records in the table"
   ]
  },
  {
   "cell_type": "code",
   "execution_count": 4,
   "id": "1bc6d585-d526-43e4-9b66-08c4232bb868",
   "metadata": {},
   "outputs": [
    {
     "name": "stdout",
     "output_type": "stream",
     "text": [
      "Query executed and committed.\n"
     ]
    }
   ],
   "source": [
    "sql_query = \"\"\"\n",
    "    DROP TABLE IF EXISTS users_staging;\n",
    "\n",
    "    CREATE TABLE users_staging (\n",
    "             userid text,\n",
    "         attribute1 int,\n",
    "         attribute2 text\n",
    "        );\n",
    "\n",
    "    DROP TABLE IF EXISTS event_performance_staging;\n",
    "\n",
    "    CREATE TABLE event_performance_staging (\n",
    "            userid text,\n",
    "        event_date text,\n",
    "              hour int,\n",
    "            points text\n",
    "        );\n",
    "    \"\"\"\n",
    "\n",
    "exec_and_commit_query(sql_query, engine)"
   ]
  },
  {
   "cell_type": "markdown",
   "id": "a8af3c4b-dae6-4f70-b67e-ed491a542bd6",
   "metadata": {},
   "source": [
    "## Loading dummy data from CSV files into tables"
   ]
  },
  {
   "cell_type": "code",
   "execution_count": 5,
   "id": "b5b3bf91-7e04-4717-aed4-a7945435dc73",
   "metadata": {},
   "outputs": [
    {
     "name": "stdout",
     "output_type": "stream",
     "text": [
      "Query executed and committed.\n"
     ]
    }
   ],
   "source": [
    "wd = os.getcwd()\n",
    "\n",
    "sql_query = \"\"\" \n",
    "COPY users_staging(userid, attribute1, attribute2)\n",
    "FROM '{working_dir}/data/users.csv'\n",
    "DELIMITER ','\n",
    "CSV HEADER;\n",
    "\n",
    "COPY event_performance_staging(userid, event_date, hour, points)\n",
    "FROM '{working_dir}/data/event_performance.csv'\n",
    "DELIMITER ','\n",
    "CSV HEADER;\n",
    "\"\"\".format(working_dir = wd)\n",
    "\n",
    "exec_and_commit_query(sql_query, engine)"
   ]
  },
  {
   "cell_type": "markdown",
   "id": "bc8d9bab-f330-4a85-9bdc-c9010de74b9a",
   "metadata": {},
   "source": [
    "## Checking for NULL values"
   ]
  },
  {
   "cell_type": "code",
   "execution_count": 6,
   "id": "f54d8023-e39b-45ff-b26f-1702fa980c2c",
   "metadata": {},
   "outputs": [
    {
     "data": {
      "text/html": [
       "<div>\n",
       "<style scoped>\n",
       "    .dataframe tbody tr th:only-of-type {\n",
       "        vertical-align: middle;\n",
       "    }\n",
       "\n",
       "    .dataframe tbody tr th {\n",
       "        vertical-align: top;\n",
       "    }\n",
       "\n",
       "    .dataframe thead th {\n",
       "        text-align: right;\n",
       "    }\n",
       "</style>\n",
       "<table border=\"1\" class=\"dataframe\">\n",
       "  <thead>\n",
       "    <tr style=\"text-align: right;\">\n",
       "      <th></th>\n",
       "      <th>userid</th>\n",
       "      <th>attribute1</th>\n",
       "      <th>attribute2</th>\n",
       "    </tr>\n",
       "  </thead>\n",
       "  <tbody>\n",
       "  </tbody>\n",
       "</table>\n",
       "</div>"
      ],
      "text/plain": [
       "Empty DataFrame\n",
       "Columns: [userid, attribute1, attribute2]\n",
       "Index: []"
      ]
     },
     "execution_count": 6,
     "metadata": {},
     "output_type": "execute_result"
    }
   ],
   "source": [
    "sql_query = \"\"\" \n",
    "SELECT *\n",
    "  FROM event_performance_staging\n",
    " WHERE userid IS NULL\n",
    "    OR event_date IS NULL\n",
    "    OR hour IS NULL\n",
    "    OR points IS NULL;\n",
    "\n",
    "SELECT *\n",
    "  FROM users_staging\n",
    " WHERE userid IS NULL\n",
    "    OR attribute1 IS NULL\n",
    "    OR attribute2 IS NULL;\n",
    "\"\"\"\n",
    "\n",
    "sql_query_to_pandas_df(sql_query, engine)"
   ]
  },
  {
   "cell_type": "markdown",
   "id": "0718d4a9-3e75-4b41-9710-f01b314c1dd5",
   "metadata": {},
   "source": [
    "No NULL values were found, so there shouldn't be any need to impute values or drop records with missing information."
   ]
  },
  {
   "cell_type": "markdown",
   "id": "bc0b8a3b-1b91-45aa-a0d8-5bc46eec3096",
   "metadata": {},
   "source": [
    "## Changing data types"
   ]
  },
  {
   "cell_type": "markdown",
   "id": "be6d4a3e-6eff-45de-aadd-c3c2f9086ae4",
   "metadata": {},
   "source": [
    "### `event_date`"
   ]
  },
  {
   "cell_type": "code",
   "execution_count": 7,
   "id": "2973bb6c-1dda-4d23-9a90-c264023246ef",
   "metadata": {},
   "outputs": [
    {
     "name": "stderr",
     "output_type": "stream",
     "text": [
      "Traceback (most recent call last):\n",
      "  File \"/Users/rancher/opt/anaconda3/envs/ox/lib/python3.9/site-packages/sqlalchemy/engine/base.py\", line 1965, in _exec_single_context\n",
      "    self.dialect.do_execute(\n",
      "psycopg2.errors.DatetimeFieldOverflow: date/time field value out of range: \"19/24/2019\"\n",
      "HINT:  Perhaps you need a different \"datestyle\" setting.\n",
      "\n",
      "\n",
      "The above exception was the direct cause of the following exception:\n",
      "\n",
      "Traceback (most recent call last):\n",
      "  File \"/var/folders/lp/jgdr2r255gz098q__v2pjv0r0000gn/T/ipykernel_50116/2158672468.py\", line 7, in <module>\n",
      "    sql_query_to_pandas_df(sql_query, engine)\n",
      "sqlalchemy.exc.DataError: (psycopg2.errors.DatetimeFieldOverflow) date/time field value out of range: \"19/24/2019\"\n",
      "HINT:  Perhaps you need a different \"datestyle\" setting.\n",
      "\n",
      "[SQL:  \n",
      "SELECT event_date::date\n",
      "  FROM event_performance_staging;\n",
      "]\n",
      "(Background on this error at: https://sqlalche.me/e/20/9h9h)\n"
     ]
    }
   ],
   "source": [
    "sql_query = \"\"\" \n",
    "SELECT event_date::date\n",
    "  FROM event_performance_staging;\n",
    "\"\"\"\n",
    "\n",
    "try:\n",
    "    sql_query_to_pandas_df(sql_query, engine)\n",
    "except Exception as e:\n",
    "    traceback.print_exc(limit=1)\n",
    "    exit(1)"
   ]
  },
  {
   "cell_type": "markdown",
   "id": "d79d8272-a8e3-4658-8085-bafc5dbc33ba",
   "metadata": {},
   "source": [
    "The error is caused by one entry in the event_date column that's set to \"19/24/2019\".  Since there's no way to identify whether this date is meant to be \"1/24/2019\" or \"9/24/2019\" or perhaps something else entirely, the safest option is to drop it.  Dropping one entry in a dataset this size shouldn't make much of a difference."
   ]
  },
  {
   "cell_type": "code",
   "execution_count": 8,
   "id": "3cca8550-5017-441f-859c-4916c02801fe",
   "metadata": {},
   "outputs": [
    {
     "name": "stdout",
     "output_type": "stream",
     "text": [
      "Query executed and committed.\n"
     ]
    }
   ],
   "source": [
    "sql_query = \"\"\"\n",
    "DELETE FROM event_performance_staging\n",
    "WHERE event_date = '19/24/2019';\n",
    "    \"\"\"\n",
    "\n",
    "exec_and_commit_query(sql_query, engine)"
   ]
  },
  {
   "cell_type": "markdown",
   "id": "cae1834b-a80d-4df3-9347-7e541757c294",
   "metadata": {},
   "source": [
    "\n",
    "With that one problematic event_date dropped, I'm going to convert the remaining event_dates to the DATE type and to a more consistent format.  Most event_dates had 2 digit years, while some had four digit years.  This will standardize all event_dates to display the more descriptive four digit years."
   ]
  },
  {
   "cell_type": "code",
   "execution_count": 9,
   "id": "1a6d38c5-d707-4c91-8d2e-0996ae5ef578",
   "metadata": {},
   "outputs": [
    {
     "name": "stdout",
     "output_type": "stream",
     "text": [
      "Query executed and committed.\n"
     ]
    }
   ],
   "source": [
    "sql_query = \"\"\"\n",
    "ALTER TABLE event_performance_staging\n",
    "\tALTER COLUMN event_date\n",
    "\tTYPE DATE\n",
    "\tUSING (to_date(event_date, 'MM/DD/YY'));\n",
    "    \"\"\"\n",
    "\n",
    "exec_and_commit_query(sql_query, engine)"
   ]
  },
  {
   "cell_type": "code",
   "execution_count": 10,
   "id": "83d8667c-064b-4ac3-8531-576f9e52cb08",
   "metadata": {},
   "outputs": [
    {
     "data": {
      "text/html": [
       "<div>\n",
       "<style scoped>\n",
       "    .dataframe tbody tr th:only-of-type {\n",
       "        vertical-align: middle;\n",
       "    }\n",
       "\n",
       "    .dataframe tbody tr th {\n",
       "        vertical-align: top;\n",
       "    }\n",
       "\n",
       "    .dataframe thead th {\n",
       "        text-align: right;\n",
       "    }\n",
       "</style>\n",
       "<table border=\"1\" class=\"dataframe\">\n",
       "  <thead>\n",
       "    <tr style=\"text-align: right;\">\n",
       "      <th></th>\n",
       "      <th>event_date</th>\n",
       "    </tr>\n",
       "  </thead>\n",
       "  <tbody>\n",
       "    <tr>\n",
       "      <th>0</th>\n",
       "      <td>1999-03-22</td>\n",
       "    </tr>\n",
       "    <tr>\n",
       "      <th>1</th>\n",
       "      <td>2019-01-02</td>\n",
       "    </tr>\n",
       "    <tr>\n",
       "      <th>2</th>\n",
       "      <td>2019-01-02</td>\n",
       "    </tr>\n",
       "    <tr>\n",
       "      <th>3</th>\n",
       "      <td>2019-01-02</td>\n",
       "    </tr>\n",
       "    <tr>\n",
       "      <th>4</th>\n",
       "      <td>2019-01-02</td>\n",
       "    </tr>\n",
       "  </tbody>\n",
       "</table>\n",
       "</div>"
      ],
      "text/plain": [
       "   event_date\n",
       "0  1999-03-22\n",
       "1  2019-01-02\n",
       "2  2019-01-02\n",
       "3  2019-01-02\n",
       "4  2019-01-02"
      ]
     },
     "execution_count": 10,
     "metadata": {},
     "output_type": "execute_result"
    }
   ],
   "source": [
    "sql_query = \"\"\" \n",
    "  SELECT event_date\n",
    "    FROM event_performance_staging\n",
    "ORDER BY event_date\n",
    "LIMIT 5;\n",
    "\"\"\"\n",
    "\n",
    "sql_query_to_pandas_df(sql_query, engine)"
   ]
  },
  {
   "cell_type": "markdown",
   "id": "bd1fa60b-ee43-4ac2-a649-f34d87ee01a3",
   "metadata": {},
   "source": [
    "Inspecting the remaining dates, shows there's one date from 1999, which is before this company was founded.  Because there's no way to know what the true date for this entry is, it will have to be excluded from the analysis.  More on that later."
   ]
  },
  {
   "cell_type": "code",
   "execution_count": 11,
   "id": "c3661859-d0bc-4ffd-bb4f-cd0a4378db2c",
   "metadata": {},
   "outputs": [
    {
     "data": {
      "text/html": [
       "<div>\n",
       "<style scoped>\n",
       "    .dataframe tbody tr th:only-of-type {\n",
       "        vertical-align: middle;\n",
       "    }\n",
       "\n",
       "    .dataframe tbody tr th {\n",
       "        vertical-align: top;\n",
       "    }\n",
       "\n",
       "    .dataframe thead th {\n",
       "        text-align: right;\n",
       "    }\n",
       "</style>\n",
       "<table border=\"1\" class=\"dataframe\">\n",
       "  <thead>\n",
       "    <tr style=\"text-align: right;\">\n",
       "      <th></th>\n",
       "      <th>event_date</th>\n",
       "    </tr>\n",
       "  </thead>\n",
       "  <tbody>\n",
       "    <tr>\n",
       "      <th>0</th>\n",
       "      <td>2039-08-02</td>\n",
       "    </tr>\n",
       "    <tr>\n",
       "      <th>1</th>\n",
       "      <td>2019-12-27</td>\n",
       "    </tr>\n",
       "    <tr>\n",
       "      <th>2</th>\n",
       "      <td>2019-12-27</td>\n",
       "    </tr>\n",
       "    <tr>\n",
       "      <th>3</th>\n",
       "      <td>2019-12-27</td>\n",
       "    </tr>\n",
       "    <tr>\n",
       "      <th>4</th>\n",
       "      <td>2019-12-27</td>\n",
       "    </tr>\n",
       "  </tbody>\n",
       "</table>\n",
       "</div>"
      ],
      "text/plain": [
       "   event_date\n",
       "0  2039-08-02\n",
       "1  2019-12-27\n",
       "2  2019-12-27\n",
       "3  2019-12-27\n",
       "4  2019-12-27"
      ]
     },
     "execution_count": 11,
     "metadata": {},
     "output_type": "execute_result"
    }
   ],
   "source": [
    "sql_query = \"\"\" \n",
    "  SELECT event_date\n",
    "    FROM event_performance_staging\n",
    "ORDER BY event_date DESC\n",
    "LIMIT 5;\n",
    "\"\"\"\n",
    "\n",
    "sql_query_to_pandas_df(sql_query, engine)"
   ]
  },
  {
   "cell_type": "markdown",
   "id": "b2e0fb9e-ffc1-4e63-8bac-eeafc536fd49",
   "metadata": {},
   "source": [
    "There's also one date from 2039, way into the future.  This date will have to be excluded from the analysis too.  I'll take care of that later."
   ]
  },
  {
   "cell_type": "markdown",
   "id": "a044addb-012f-4cb0-8ed1-8acacfa6f2dc",
   "metadata": {},
   "source": [
    "### `points`"
   ]
  },
  {
   "cell_type": "code",
   "execution_count": 12,
   "id": "5c70e576-5a73-4d91-80e1-e9027e8ac1ef",
   "metadata": {},
   "outputs": [
    {
     "name": "stderr",
     "output_type": "stream",
     "text": [
      "Traceback (most recent call last):\n",
      "  File \"/Users/rancher/opt/anaconda3/envs/ox/lib/python3.9/site-packages/sqlalchemy/engine/base.py\", line 1965, in _exec_single_context\n",
      "    self.dialect.do_execute(\n",
      "psycopg2.errors.InvalidTextRepresentation: invalid input syntax for type integer: \"\"732\"\"\n",
      "\n",
      "\n",
      "The above exception was the direct cause of the following exception:\n",
      "\n",
      "Traceback (most recent call last):\n",
      "  File \"/var/folders/lp/jgdr2r255gz098q__v2pjv0r0000gn/T/ipykernel_50116/1302021620.py\", line 7, in <module>\n",
      "    sql_query_to_pandas_df(sql_query, engine)\n",
      "sqlalchemy.exc.DataError: (psycopg2.errors.InvalidTextRepresentation) invalid input syntax for type integer: \"\"732\"\"\n",
      "\n",
      "[SQL:  \n",
      "SELECT points::int\n",
      "  FROM event_performance_staging;\n",
      "]\n",
      "(Background on this error at: https://sqlalche.me/e/20/9h9h)\n"
     ]
    }
   ],
   "source": [
    "sql_query = \"\"\" \n",
    "SELECT points::int\n",
    "  FROM event_performance_staging;\n",
    "\"\"\"\n",
    "\n",
    "try:\n",
    "    sql_query_to_pandas_df(sql_query, engine)\n",
    "except Exception as e:\n",
    "    traceback.print_exc(limit=1)\n",
    "    exit(1)"
   ]
  },
  {
   "cell_type": "markdown",
   "id": "b3685eeb-baa1-4651-93bd-68a0fe238a28",
   "metadata": {},
   "source": [
    "A new error arises in the points column.  One of the entries is \"732\" and because of the quotiation marks, can't be converted to an INT.  Another entry also has a question mark in in that raises an error.  I'll remove these typos in a later step."
   ]
  },
  {
   "cell_type": "markdown",
   "id": "aa603651-6753-4418-a261-42ac1ea61aab",
   "metadata": {},
   "source": [
    "### `user_id`"
   ]
  },
  {
   "cell_type": "code",
   "execution_count": 13,
   "id": "24c3b1ef-5306-40fe-a16d-9a478a7fbfca",
   "metadata": {},
   "outputs": [
    {
     "data": {
      "text/html": [
       "<div>\n",
       "<style scoped>\n",
       "    .dataframe tbody tr th:only-of-type {\n",
       "        vertical-align: middle;\n",
       "    }\n",
       "\n",
       "    .dataframe tbody tr th {\n",
       "        vertical-align: top;\n",
       "    }\n",
       "\n",
       "    .dataframe thead th {\n",
       "        text-align: right;\n",
       "    }\n",
       "</style>\n",
       "<table border=\"1\" class=\"dataframe\">\n",
       "  <thead>\n",
       "    <tr style=\"text-align: right;\">\n",
       "      <th></th>\n",
       "      <th>min_userid_length</th>\n",
       "      <th>max_userid_length</th>\n",
       "    </tr>\n",
       "  </thead>\n",
       "  <tbody>\n",
       "    <tr>\n",
       "      <th>0</th>\n",
       "      <td>36</td>\n",
       "      <td>36</td>\n",
       "    </tr>\n",
       "  </tbody>\n",
       "</table>\n",
       "</div>"
      ],
      "text/plain": [
       "   min_userid_length  max_userid_length\n",
       "0                 36                 36"
      ]
     },
     "execution_count": 13,
     "metadata": {},
     "output_type": "execute_result"
    }
   ],
   "source": [
    "sql_query = \"\"\" \n",
    "  SELECT MIN(LENGTH(userid)) AS min_userid_length\n",
    "       , MAX(LENGTH(userid)) AS max_userid_length\n",
    "    FROM users_staging;\n",
    "\"\"\"\n",
    "\n",
    "sql_query_to_pandas_df(sql_query, engine)"
   ]
  },
  {
   "cell_type": "code",
   "execution_count": 14,
   "id": "05baad75-456d-4599-ac15-fce6281c40d5",
   "metadata": {},
   "outputs": [
    {
     "data": {
      "text/html": [
       "<div>\n",
       "<style scoped>\n",
       "    .dataframe tbody tr th:only-of-type {\n",
       "        vertical-align: middle;\n",
       "    }\n",
       "\n",
       "    .dataframe tbody tr th {\n",
       "        vertical-align: top;\n",
       "    }\n",
       "\n",
       "    .dataframe thead th {\n",
       "        text-align: right;\n",
       "    }\n",
       "</style>\n",
       "<table border=\"1\" class=\"dataframe\">\n",
       "  <thead>\n",
       "    <tr style=\"text-align: right;\">\n",
       "      <th></th>\n",
       "      <th>min_userid_length</th>\n",
       "      <th>max_userid_length</th>\n",
       "    </tr>\n",
       "  </thead>\n",
       "  <tbody>\n",
       "    <tr>\n",
       "      <th>0</th>\n",
       "      <td>36</td>\n",
       "      <td>37</td>\n",
       "    </tr>\n",
       "  </tbody>\n",
       "</table>\n",
       "</div>"
      ],
      "text/plain": [
       "   min_userid_length  max_userid_length\n",
       "0                 36                 37"
      ]
     },
     "execution_count": 14,
     "metadata": {},
     "output_type": "execute_result"
    }
   ],
   "source": [
    "sql_query = \"\"\" \n",
    "  SELECT MIN(LENGTH(userid)) AS min_userid_length\n",
    "       , MAX(LENGTH(userid)) AS max_userid_length\n",
    "    FROM event_performance_staging;\n",
    "\"\"\"\n",
    "\n",
    "sql_query_to_pandas_df(sql_query, engine)"
   ]
  },
  {
   "cell_type": "code",
   "execution_count": 15,
   "id": "ef0541d6-f253-4dcc-97d3-23504f833a2d",
   "metadata": {},
   "outputs": [
    {
     "data": {
      "text/html": [
       "<div>\n",
       "<style scoped>\n",
       "    .dataframe tbody tr th:only-of-type {\n",
       "        vertical-align: middle;\n",
       "    }\n",
       "\n",
       "    .dataframe tbody tr th {\n",
       "        vertical-align: top;\n",
       "    }\n",
       "\n",
       "    .dataframe thead th {\n",
       "        text-align: right;\n",
       "    }\n",
       "</style>\n",
       "<table border=\"1\" class=\"dataframe\">\n",
       "  <thead>\n",
       "    <tr style=\"text-align: right;\">\n",
       "      <th></th>\n",
       "      <th>userid</th>\n",
       "      <th>userid_length</th>\n",
       "    </tr>\n",
       "  </thead>\n",
       "  <tbody>\n",
       "    <tr>\n",
       "      <th>0</th>\n",
       "      <td>4297f22d-1889-4b5b-80bb-cdaa6a8809bd</td>\n",
       "      <td>37</td>\n",
       "    </tr>\n",
       "    <tr>\n",
       "      <th>1</th>\n",
       "      <td>5ddbc2c6-6e9b-4f0b-af64-487074332862\"</td>\n",
       "      <td>37</td>\n",
       "    </tr>\n",
       "  </tbody>\n",
       "</table>\n",
       "</div>"
      ],
      "text/plain": [
       "                                  userid  userid_length\n",
       "0  4297f22d-1889-4b5b-80bb-cdaa6a8809bd              37\n",
       "1  5ddbc2c6-6e9b-4f0b-af64-487074332862\"             37"
      ]
     },
     "execution_count": 15,
     "metadata": {},
     "output_type": "execute_result"
    }
   ],
   "source": [
    "sql_query = \"\"\" \n",
    "  SELECT userid\n",
    "       , LENGTH(userid) AS userid_length\n",
    "    FROM event_performance_staging\n",
    "    WHERE LENGTH(userid) = (SELECT MAX(LENGTH(userid)) \n",
    "                              FROM event_performance_staging);\n",
    "\"\"\"\n",
    "\n",
    "sql_query_to_pandas_df(sql_query, engine)"
   ]
  },
  {
   "cell_type": "markdown",
   "id": "839eb37e-5d72-4cf4-acad-c655ae1bcba2",
   "metadata": {},
   "source": [
    "These two entries have a userid that's 37 characters long, while all of the others in both tables have just 36 characters.  The second userid clearly has a quotation mark at the end and must be a typo that needs to be removed.  The problem with the first userid isn't quite as obvious, but upon closer inspection has a typo because there's a space character at the end.  Both of these typos will be removed shortly."
   ]
  },
  {
   "cell_type": "markdown",
   "id": "4ca3023a-6466-4752-8ea9-a6a5e1563652",
   "metadata": {},
   "source": [
    "## Moving data to new, clean tables"
   ]
  },
  {
   "cell_type": "markdown",
   "id": "324f2b31-720e-47e7-b731-b3b99feb2239",
   "metadata": {},
   "source": [
    "### `event_performance`\n",
    "\n",
    "1. userid is a 36 character string.  \n",
    "\t* Note: All userids in this table were 36 characters, \n",
    "\texcept for two user ids that were 37 characters.\n",
    "\tOne of these userids had double quotes at the end and the other had\n",
    "\ta space at the end, both of which I assume are typos and are\n",
    "\tfixed upon transferring to the new, clean table.\n",
    "2. event_date is DATE type, with dates occurring during years\n",
    "only subsequent to the company's creation and before the analysis was performed.\n",
    "\t* Note: I found one date that occurs in 2039 and\n",
    "\tanother from 1999 and end up excluding both in the analysis.\n",
    "3. hour is an integer between 0 and 23 inclusive\n",
    "4. points is an integer\n",
    "\n",
    "This query creates a new table to hold the cleaned events_performance data and defines more explicit data types.  The quotation mark and question mark are removed from `points`, the space and quotation mark are removed from `userid`, and dates prior to the founding of the company, or dates after the analysis was performed are excluded. "
   ]
  },
  {
   "cell_type": "code",
   "execution_count": 16,
   "id": "916ea93a-12ae-4d7e-a0ba-5cac0c45af91",
   "metadata": {},
   "outputs": [
    {
     "name": "stdout",
     "output_type": "stream",
     "text": [
      "Query executed and committed.\n"
     ]
    }
   ],
   "source": [
    "sql_query = \"\"\"\n",
    "DROP TABLE IF EXISTS event_performance;\n",
    "\n",
    "CREATE TABLE event_performance (\n",
    "\t    userid VARCHAR(36) NOT NULL,\n",
    "\tevent_date DATE NOT NULL,\n",
    "\t      hour int NOT NULL,\n",
    "\t    points int NOT NULL,\n",
    "\tCONSTRAINT valid_hour CHECK (hour >= 0 AND hour <= 23)\n",
    "\t);\n",
    "\n",
    "INSERT INTO event_performance(userid, event_date, hour, points) \n",
    "     SELECT REGEXP_REPLACE(userid, '[\" ]', '', 'gi')\n",
    "          , event_date\n",
    "          , hour\n",
    "          , REGEXP_REPLACE(points, '[\"?]', '', 'gi')::int\n",
    "       FROM event_performance_staging\n",
    "      WHERE event_date <= '2023-07-13' --Date isn't from the future\n",
    "        AND EXTRACT(YEAR FROM event_date) >= 2013; --Date is from after\n",
    "        \t\t\t\t\t\t\t\t\t\t   --the company was founded.\n",
    "    \"\"\"\n",
    "\n",
    "exec_and_commit_query(sql_query, engine)"
   ]
  },
  {
   "cell_type": "markdown",
   "id": "6276bb31-fcf3-492b-9b8e-5411974814f3",
   "metadata": {},
   "source": [
    "### `users`\n",
    "\n",
    "users table:\n",
    "1. userid is meant to be a unique 36 character string.\n",
    "\t* For this reason, I set userid to the PRIMARY KEY\n",
    "2. attribute1 is an integer that can only take on values of 0 or 1\n",
    "3. attribute2 is a single character string that only takes on 'A', 'B', or 'C'\n",
    "\n",
    "No cleaning was needed for users data.  This query simply creates a new table with more explcit data types and constraints, then copies the data from users_staging to the users table."
   ]
  },
  {
   "cell_type": "code",
   "execution_count": 17,
   "id": "b3702d5e-284a-4498-bbdf-ff5e680d412c",
   "metadata": {},
   "outputs": [
    {
     "name": "stdout",
     "output_type": "stream",
     "text": [
      "Query executed and committed.\n"
     ]
    }
   ],
   "source": [
    "sql_query = \"\"\"\n",
    "DROP TABLE IF EXISTS users;\n",
    "\n",
    "CREATE TABLE users (\n",
    "\t  userid VARCHAR(36) NOT NULL,\n",
    "  attribute1 int NOT NULL,\n",
    "  attribute2 VARCHAR(1) NOT NULL,\n",
    " PRIMARY KEY (userid),\n",
    "  CONSTRAINT valid_attribute1 CHECK (attribute1 IN (0, 1)),\n",
    "  CONSTRAINT valid_attribute2 CHECK (attribute2 IN ('A', 'B', 'C'))\n",
    "\t);\n",
    "\n",
    " INSERT INTO users(userid, attribute1, attribute2)\n",
    "      SELECT userid\n",
    "           , attribute1\n",
    "           , attribute2\n",
    "        FROM users_staging;\n",
    "    \"\"\"\n",
    "\n",
    "exec_and_commit_query(sql_query, engine)"
   ]
  },
  {
   "cell_type": "markdown",
   "id": "05db0a26-b797-4ba0-bfeb-767c1faae895",
   "metadata": {},
   "source": [
    "## Exporting cleaned data to backup CSV file"
   ]
  },
  {
   "cell_type": "code",
   "execution_count": 18,
   "id": "77163372-cfd9-4706-b5ea-b292638afad6",
   "metadata": {},
   "outputs": [
    {
     "name": "stdout",
     "output_type": "stream",
     "text": [
      "Query executed and committed.\n"
     ]
    }
   ],
   "source": [
    "sql_query = \"\"\"\n",
    "COPY event_performance TO '{working_dir}/data/clean/event_performance_clean.csv' \n",
    "                     WITH DELIMITER ',' \n",
    "                      CSV HEADER;\n",
    "    \"\"\".format(working_dir=wd)\n",
    "\n",
    "exec_and_commit_query(sql_query, engine)"
   ]
  },
  {
   "cell_type": "markdown",
   "id": "3b63890a-bc0c-469d-969f-620808c2264e",
   "metadata": {},
   "source": [
    "# The End"
   ]
  }
 ],
 "metadata": {
  "jupytext": {
   "formats": "ipynb,auto:percent"
  },
  "kernelspec": {
   "display_name": "Python 3 (ipykernel)",
   "language": "python",
   "name": "python3"
  },
  "language_info": {
   "codemirror_mode": {
    "name": "ipython",
    "version": 3
   },
   "file_extension": ".py",
   "mimetype": "text/x-python",
   "name": "python",
   "nbconvert_exporter": "python",
   "pygments_lexer": "ipython3",
   "version": "3.9.17"
  },
  "toc-autonumbering": true
 },
 "nbformat": 4,
 "nbformat_minor": 5
}
