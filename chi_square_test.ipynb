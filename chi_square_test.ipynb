{
 "cells": [
  {
   "cell_type": "code",
   "execution_count": 1,
   "id": "cc891815-1687-470a-9503-f1ab10219695",
   "metadata": {},
   "outputs": [],
   "source": [
    "import pandas as pd\n",
    "import numpy as np"
   ]
  },
  {
   "cell_type": "code",
   "execution_count": 2,
   "id": "f44ee7c3-968c-4f3d-9730-8f154af070b9",
   "metadata": {},
   "outputs": [
    {
     "name": "stdout",
     "output_type": "stream",
     "text": [
      "event_performance_clean.csv\n"
     ]
    }
   ],
   "source": [
    "!ls ./data/clean"
   ]
  },
  {
   "cell_type": "code",
   "execution_count": 36,
   "id": "20ba40ca-9ec0-48aa-b787-0f4067d6a721",
   "metadata": {},
   "outputs": [],
   "source": [
    "clean_event_performance = pd.read_csv(\"./data/clean/event_performance_clean.csv\", parse_dates=['event_date'])\n",
    "users = pd.read_csv(\"./data/users.csv\")"
   ]
  },
  {
   "cell_type": "code",
   "execution_count": 25,
   "id": "8d80cd37-9fe6-40a4-aa33-a01efeb5fb4a",
   "metadata": {},
   "outputs": [],
   "source": [
    "total_points_by_userid = clean_event_performance.groupby('userid')['points'].agg(sum)"
   ]
  },
  {
   "cell_type": "code",
   "execution_count": 28,
   "id": "3b1d40bf-54f2-4acb-a85e-46560ec15811",
   "metadata": {},
   "outputs": [],
   "source": [
    "positive_ids = total_points_by_userid[total_points_by_userid>0].index.values\n",
    "negative_ids = total_points_by_userid[total_points_by_userid<0].index.values"
   ]
  },
  {
   "cell_type": "code",
   "execution_count": 51,
   "id": "eb099814-6f94-4275-a28c-9108846ce283",
   "metadata": {},
   "outputs": [],
   "source": [
    "positive_users_df = clean_event_performance[clean_event_performance['userid'].isin(positive_ids)]\n",
    "\n",
    "negative_users_df = clean_event_performance[clean_event_performance['userid'].isin(negative_ids)]"
   ]
  },
  {
   "cell_type": "code",
   "execution_count": 52,
   "id": "dcdb3450-71c8-4e76-a607-63395feb3eac",
   "metadata": {},
   "outputs": [],
   "source": [
    "merged_positive_df = users.merge(positive_users_df, how='left', left_on='userid', right_on='userid')\n",
    "\n",
    "merged_negative_df = users.merge(negative_users_df, how='left', left_on='userid', right_on='userid')"
   ]
  },
  {
   "cell_type": "code",
   "execution_count": 60,
   "id": "8db7d06e-ef62-40e7-a620-b6913dc9ef82",
   "metadata": {},
   "outputs": [
    {
     "data": {
      "text/html": [
       "<div>\n",
       "<style scoped>\n",
       "    .dataframe tbody tr th:only-of-type {\n",
       "        vertical-align: middle;\n",
       "    }\n",
       "\n",
       "    .dataframe tbody tr th {\n",
       "        vertical-align: top;\n",
       "    }\n",
       "\n",
       "    .dataframe thead th {\n",
       "        text-align: right;\n",
       "    }\n",
       "</style>\n",
       "<table border=\"1\" class=\"dataframe\">\n",
       "  <thead>\n",
       "    <tr style=\"text-align: right;\">\n",
       "      <th></th>\n",
       "      <th>userid</th>\n",
       "      <th>attribute2</th>\n",
       "      <th>event_date</th>\n",
       "      <th>hour</th>\n",
       "      <th>points</th>\n",
       "    </tr>\n",
       "    <tr>\n",
       "      <th>attribute1</th>\n",
       "      <th></th>\n",
       "      <th></th>\n",
       "      <th></th>\n",
       "      <th></th>\n",
       "      <th></th>\n",
       "    </tr>\n",
       "  </thead>\n",
       "  <tbody>\n",
       "    <tr>\n",
       "      <th>0</th>\n",
       "      <td>0.799535</td>\n",
       "      <td>0.799535</td>\n",
       "      <td>0.786835</td>\n",
       "      <td>0.786835</td>\n",
       "      <td>0.786835</td>\n",
       "    </tr>\n",
       "    <tr>\n",
       "      <th>1</th>\n",
       "      <td>0.200465</td>\n",
       "      <td>0.200465</td>\n",
       "      <td>0.198139</td>\n",
       "      <td>0.198139</td>\n",
       "      <td>0.198139</td>\n",
       "    </tr>\n",
       "  </tbody>\n",
       "</table>\n",
       "</div>"
      ],
      "text/plain": [
       "              userid  attribute2  event_date      hour    points\n",
       "attribute1                                                      \n",
       "0           0.799535    0.799535    0.786835  0.786835  0.786835\n",
       "1           0.200465    0.200465    0.198139  0.198139  0.198139"
      ]
     },
     "execution_count": 60,
     "metadata": {},
     "output_type": "execute_result"
    }
   ],
   "source": [
    "merged_positive_df.groupby('attribute1').count() / merged_positive_df.shape[0]"
   ]
  },
  {
   "cell_type": "code",
   "execution_count": 59,
   "id": "ebba2a41-8e43-4033-8d13-a975f82d1e1d",
   "metadata": {},
   "outputs": [
    {
     "data": {
      "text/html": [
       "<div>\n",
       "<style scoped>\n",
       "    .dataframe tbody tr th:only-of-type {\n",
       "        vertical-align: middle;\n",
       "    }\n",
       "\n",
       "    .dataframe tbody tr th {\n",
       "        vertical-align: top;\n",
       "    }\n",
       "\n",
       "    .dataframe thead th {\n",
       "        text-align: right;\n",
       "    }\n",
       "</style>\n",
       "<table border=\"1\" class=\"dataframe\">\n",
       "  <thead>\n",
       "    <tr style=\"text-align: right;\">\n",
       "      <th></th>\n",
       "      <th>userid</th>\n",
       "      <th>attribute1</th>\n",
       "      <th>event_date</th>\n",
       "      <th>hour</th>\n",
       "      <th>points</th>\n",
       "    </tr>\n",
       "    <tr>\n",
       "      <th>attribute2</th>\n",
       "      <th></th>\n",
       "      <th></th>\n",
       "      <th></th>\n",
       "      <th></th>\n",
       "      <th></th>\n",
       "    </tr>\n",
       "  </thead>\n",
       "  <tbody>\n",
       "    <tr>\n",
       "      <th>A</th>\n",
       "      <td>0.310407</td>\n",
       "      <td>0.310407</td>\n",
       "      <td>0.303504</td>\n",
       "      <td>0.303504</td>\n",
       "      <td>0.303504</td>\n",
       "    </tr>\n",
       "    <tr>\n",
       "      <th>B</th>\n",
       "      <td>0.384539</td>\n",
       "      <td>0.384539</td>\n",
       "      <td>0.377561</td>\n",
       "      <td>0.377561</td>\n",
       "      <td>0.377561</td>\n",
       "    </tr>\n",
       "    <tr>\n",
       "      <th>C</th>\n",
       "      <td>0.305054</td>\n",
       "      <td>0.305054</td>\n",
       "      <td>0.303910</td>\n",
       "      <td>0.303910</td>\n",
       "      <td>0.303910</td>\n",
       "    </tr>\n",
       "  </tbody>\n",
       "</table>\n",
       "</div>"
      ],
      "text/plain": [
       "              userid  attribute1  event_date      hour    points\n",
       "attribute2                                                      \n",
       "A           0.310407    0.310407    0.303504  0.303504  0.303504\n",
       "B           0.384539    0.384539    0.377561  0.377561  0.377561\n",
       "C           0.305054    0.305054    0.303910  0.303910  0.303910"
      ]
     },
     "execution_count": 59,
     "metadata": {},
     "output_type": "execute_result"
    }
   ],
   "source": [
    "merged_positive_df.groupby('attribute2').count() / merged_positive_df.shape[0]"
   ]
  },
  {
   "cell_type": "code",
   "execution_count": 58,
   "id": "f62f53ad-0872-41e6-81fd-129c477585d3",
   "metadata": {},
   "outputs": [
    {
     "data": {
      "text/html": [
       "<div>\n",
       "<style scoped>\n",
       "    .dataframe tbody tr th:only-of-type {\n",
       "        vertical-align: middle;\n",
       "    }\n",
       "\n",
       "    .dataframe tbody tr th {\n",
       "        vertical-align: top;\n",
       "    }\n",
       "\n",
       "    .dataframe thead th {\n",
       "        text-align: right;\n",
       "    }\n",
       "</style>\n",
       "<table border=\"1\" class=\"dataframe\">\n",
       "  <thead>\n",
       "    <tr style=\"text-align: right;\">\n",
       "      <th></th>\n",
       "      <th>userid</th>\n",
       "      <th>attribute2</th>\n",
       "      <th>event_date</th>\n",
       "      <th>hour</th>\n",
       "      <th>points</th>\n",
       "    </tr>\n",
       "    <tr>\n",
       "      <th>attribute1</th>\n",
       "      <th></th>\n",
       "      <th></th>\n",
       "      <th></th>\n",
       "      <th></th>\n",
       "      <th></th>\n",
       "    </tr>\n",
       "  </thead>\n",
       "  <tbody>\n",
       "    <tr>\n",
       "      <th>0</th>\n",
       "      <td>0.865327</td>\n",
       "      <td>0.865327</td>\n",
       "      <td>0.806889</td>\n",
       "      <td>0.806889</td>\n",
       "      <td>0.806889</td>\n",
       "    </tr>\n",
       "    <tr>\n",
       "      <th>1</th>\n",
       "      <td>0.134673</td>\n",
       "      <td>0.134673</td>\n",
       "      <td>0.120152</td>\n",
       "      <td>0.120152</td>\n",
       "      <td>0.120152</td>\n",
       "    </tr>\n",
       "  </tbody>\n",
       "</table>\n",
       "</div>"
      ],
      "text/plain": [
       "              userid  attribute2  event_date      hour    points\n",
       "attribute1                                                      \n",
       "0           0.865327    0.865327    0.806889  0.806889  0.806889\n",
       "1           0.134673    0.134673    0.120152  0.120152  0.120152"
      ]
     },
     "execution_count": 58,
     "metadata": {},
     "output_type": "execute_result"
    }
   ],
   "source": [
    "merged_negative_df.groupby('attribute1').count() / merged_negative_df.shape[0]"
   ]
  },
  {
   "cell_type": "code",
   "execution_count": 61,
   "id": "2a6d9591-aab4-455d-8899-597d4cab2116",
   "metadata": {},
   "outputs": [
    {
     "data": {
      "text/html": [
       "<div>\n",
       "<style scoped>\n",
       "    .dataframe tbody tr th:only-of-type {\n",
       "        vertical-align: middle;\n",
       "    }\n",
       "\n",
       "    .dataframe tbody tr th {\n",
       "        vertical-align: top;\n",
       "    }\n",
       "\n",
       "    .dataframe thead th {\n",
       "        text-align: right;\n",
       "    }\n",
       "</style>\n",
       "<table border=\"1\" class=\"dataframe\">\n",
       "  <thead>\n",
       "    <tr style=\"text-align: right;\">\n",
       "      <th></th>\n",
       "      <th>userid</th>\n",
       "      <th>attribute1</th>\n",
       "      <th>event_date</th>\n",
       "      <th>hour</th>\n",
       "      <th>points</th>\n",
       "    </tr>\n",
       "    <tr>\n",
       "      <th>attribute2</th>\n",
       "      <th></th>\n",
       "      <th></th>\n",
       "      <th></th>\n",
       "      <th></th>\n",
       "      <th></th>\n",
       "    </tr>\n",
       "  </thead>\n",
       "  <tbody>\n",
       "    <tr>\n",
       "      <th>A</th>\n",
       "      <td>0.376129</td>\n",
       "      <td>0.376129</td>\n",
       "      <td>0.349655</td>\n",
       "      <td>0.349655</td>\n",
       "      <td>0.349655</td>\n",
       "    </tr>\n",
       "    <tr>\n",
       "      <th>B</th>\n",
       "      <td>0.588100</td>\n",
       "      <td>0.588100</td>\n",
       "      <td>0.562600</td>\n",
       "      <td>0.562600</td>\n",
       "      <td>0.562600</td>\n",
       "    </tr>\n",
       "    <tr>\n",
       "      <th>C</th>\n",
       "      <td>0.035771</td>\n",
       "      <td>0.035771</td>\n",
       "      <td>0.014787</td>\n",
       "      <td>0.014787</td>\n",
       "      <td>0.014787</td>\n",
       "    </tr>\n",
       "  </tbody>\n",
       "</table>\n",
       "</div>"
      ],
      "text/plain": [
       "              userid  attribute1  event_date      hour    points\n",
       "attribute2                                                      \n",
       "A           0.376129    0.376129    0.349655  0.349655  0.349655\n",
       "B           0.588100    0.588100    0.562600  0.562600  0.562600\n",
       "C           0.035771    0.035771    0.014787  0.014787  0.014787"
      ]
     },
     "execution_count": 61,
     "metadata": {},
     "output_type": "execute_result"
    }
   ],
   "source": [
    "merged_negative_df.groupby('attribute2').count() / merged_negative_df.shape[0]"
   ]
  },
  {
   "cell_type": "code",
   "execution_count": 74,
   "id": "074bf7e8-52ae-442b-a113-74dc301907a6",
   "metadata": {},
   "outputs": [],
   "source": [
    "positive_users_counts_by_attribute2 = merged_positive_df.groupby('attribute2').count()['userid']\n",
    "\n",
    "negative_users_counts_by_attribute2 = merged_negative_df.groupby('attribute2').count()['userid']"
   ]
  },
  {
   "cell_type": "code",
   "execution_count": 75,
   "id": "30537550-9a2f-4eb7-8bba-8307e4ede790",
   "metadata": {},
   "outputs": [],
   "source": [
    "counts_by_attribute2 = merged_df.groupby('attribute2').count()['userid']"
   ]
  },
  {
   "cell_type": "code",
   "execution_count": 81,
   "id": "76fbf608-6f07-42bb-bd6f-ec5b8179209b",
   "metadata": {},
   "outputs": [],
   "source": [
    "pivot_df = pd.DataFrame([positive_users_counts_by_attribute2, negative_users_counts_by_attribute2], index=['positive_users', 'negative_users'])"
   ]
  },
  {
   "cell_type": "code",
   "execution_count": 84,
   "id": "fdbfa8b8-65a3-40a5-a745-314fb9831098",
   "metadata": {},
   "outputs": [],
   "source": [
    "from scipy import stats"
   ]
  },
  {
   "cell_type": "markdown",
   "id": "bca4e3a5-28b9-4d5b-bc04-7d1a9fb455d1",
   "metadata": {},
   "source": [
    "# Chi square test for independence to check if attribute2 and total_points earned are dependent (correlated) or not"
   ]
  },
  {
   "cell_type": "code",
   "execution_count": 85,
   "id": "779372df-8f43-4d17-b2f6-1cb49c62527b",
   "metadata": {},
   "outputs": [
    {
     "data": {
      "text/plain": [
       "Chi2ContingencyResult(statistic=3407.059982194917, pvalue=0.0, dof=2, expected_freq=array([[ 8931.84315156, 12038.5098356 ,  6116.64701284],\n",
       "       [ 3724.15684844,  5019.4901644 ,  2550.35298716]]))"
      ]
     },
     "execution_count": 85,
     "metadata": {},
     "output_type": "execute_result"
    }
   ],
   "source": [
    "stats.chi2_contingency(pivot_df)"
   ]
  },
  {
   "cell_type": "code",
   "execution_count": null,
   "id": "0b458dd5-60e4-41b6-9a3d-060e15eb47d0",
   "metadata": {},
   "outputs": [],
   "source": []
  }
 ],
 "metadata": {
  "kernelspec": {
   "display_name": "Python 3 (ipykernel)",
   "language": "python",
   "name": "python3"
  },
  "language_info": {
   "codemirror_mode": {
    "name": "ipython",
    "version": 3
   },
   "file_extension": ".py",
   "mimetype": "text/x-python",
   "name": "python",
   "nbconvert_exporter": "python",
   "pygments_lexer": "ipython3",
   "version": "3.9.17"
  }
 },
 "nbformat": 4,
 "nbformat_minor": 5
}
